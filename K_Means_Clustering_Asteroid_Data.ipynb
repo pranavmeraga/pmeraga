{
  "cells": [
    {
      "cell_type": "code",
      "execution_count": null,
      "metadata": {
        "colab": {
          "base_uri": "https://localhost:8080/"
        },
        "id": "nCNGxb5O6Re2",
        "outputId": "d8dc50ee-6d36-4834-e260-a8c79db9ce6c"
      },
      "outputs": [
        {
          "output_type": "stream",
          "name": "stdout",
          "text": [
            "Looking in indexes: https://pypi.org/simple, https://us-python.pkg.dev/colab-wheels/public/simple/\n",
            "Collecting pwlf\n",
            "  Downloading pwlf-2.2.1.tar.gz (17 kB)\n",
            "Requirement already satisfied: numpy>=1.14.0 in /usr/local/lib/python3.7/dist-packages (from pwlf) (1.21.6)\n",
            "Requirement already satisfied: scipy>=1.2.0 in /usr/local/lib/python3.7/dist-packages (from pwlf) (1.7.3)\n",
            "Collecting pyDOE>=0.3.8\n",
            "  Downloading pyDOE-0.3.8.zip (22 kB)\n",
            "Building wheels for collected packages: pwlf, pyDOE\n",
            "  Building wheel for pwlf (setup.py) ... \u001b[?25l\u001b[?25hdone\n",
            "  Created wheel for pwlf: filename=pwlf-2.2.1-py3-none-any.whl size=16609 sha256=eb1051b277c81cfee81bcb5d6edb2dbf3e1b690ba9fab8a67fd0c52943243cce\n",
            "  Stored in directory: /root/.cache/pip/wheels/2d/71/b9/a5f72e5ebcb7538f085c07fc6ab888057508655fe4c161cce9\n",
            "  Building wheel for pyDOE (setup.py) ... \u001b[?25l\u001b[?25hdone\n",
            "  Created wheel for pyDOE: filename=pyDOE-0.3.8-py3-none-any.whl size=18184 sha256=5a93805fa362d42a87ec603bb09c625f6beb0e0992d58690d39b91932ecc529b\n",
            "  Stored in directory: /root/.cache/pip/wheels/83/ce/8a/87b25c685bfeca1872d13b8dc101e087a9c6e3fb5ebb47022a\n",
            "Successfully built pwlf pyDOE\n",
            "Installing collected packages: pyDOE, pwlf\n",
            "Successfully installed pwlf-2.2.1 pyDOE-0.3.8\n"
          ]
        }
      ],
      "source": [
        "!pip install pwlf\n"
      ]
    },
    {
      "cell_type": "code",
      "execution_count": null,
      "metadata": {
        "colab": {
          "base_uri": "https://localhost:8080/"
        },
        "id": "d8ZaNMmOjV9P",
        "outputId": "7295ae28-9c4c-4841-f2dc-442761c2ec95"
      },
      "outputs": [
        {
          "output_type": "stream",
          "name": "stdout",
          "text": [
            "Looking in indexes: https://pypi.org/simple, https://us-python.pkg.dev/colab-wheels/public/simple/\n",
            "Requirement already satisfied: pydot in /usr/local/lib/python3.7/dist-packages (1.3.0)\n",
            "Requirement already satisfied: pyparsing>=2.1.4 in /usr/local/lib/python3.7/dist-packages (from pydot) (3.0.9)\n",
            "Mounted at /content/drive\n"
          ]
        }
      ],
      "source": [
        "!apt-get -qq install -y graphviz && pip install pydot\n",
        "import pydot\n",
        "from IPython.display import display\n",
        "import numpy as np\n",
        "import matplotlib.pyplot as plt\n",
        "import pandas as pd\n",
        "import torch\n",
        "import torch.nn as nn\n",
        "import torch.nn.functional as F\n",
        "import torchvision\n",
        "from torch.utils.data import Dataset, DataLoader\n",
        "import pwlf\n",
        "import math\n",
        "import seaborn as sns\n",
        "from sklearn import preprocessing\n",
        "from sklearn.cluster import KMeans\n",
        "from sklearn.preprocessing import MinMaxScaler\n",
        "import statistics\n",
        "import tensorflow as tf\n",
        "from matplotlib import pyplot as plot\n",
        "from mpl_toolkits.mplot3d.axes3d import Axes3D\n",
        "%matplotlib inline\n",
        "from google.colab import drive\n",
        "import csv\n",
        "drive.mount('/content/drive')\n",
        "#import os\n",
        "dp = '/content/drive/MyDrive/nasa/nasa.csv'\n",
        "#from MyAxes3D import MyAxes3D\n",
        "import mpl_toolkits.mplot3d.axes3d as p3"
      ]
    },
    {
      "cell_type": "code",
      "source": [
        "df=pd.read_csv(dp)\n",
        "df.head()"
      ],
      "metadata": {
        "colab": {
          "base_uri": "https://localhost:8080/",
          "height": 334
        },
        "id": "RTy3RwdO0ZSa",
        "outputId": "9a564a39-bf72-4ed0-f23f-38626ab5fbf6"
      },
      "execution_count": null,
      "outputs": [
        {
          "output_type": "execute_result",
          "data": {
            "text/plain": [
              "   Neo Reference ID     Name  Absolute Magnitude  Est Dia in KM(min)  \\\n",
              "0           2001980  2001980               13.92            4.370740   \n",
              "1           2001685  2001685               14.23            3.789265   \n",
              "2           2004183  2004183               14.40            3.503926   \n",
              "3           2004183  2004183               14.40            3.503926   \n",
              "4           2066146  2066146               14.50            3.346224   \n",
              "\n",
              "   Est Dia in KM(max)  Est Dia in M(min)  Est Dia in M(max)  \\\n",
              "0            9.773272        4370.740040        9773.271842   \n",
              "1            8.473054        3789.264984        8473.054089   \n",
              "2            7.835018        3503.926411        7835.017643   \n",
              "3            7.835018        3503.926411        7835.017643   \n",
              "4            7.482384        3346.223745        7482.383761   \n",
              "\n",
              "   Est Dia in Miles(min)  Est Dia in Miles(max)  Est Dia in Feet(min)  ...  \\\n",
              "0               2.715851               6.072828           14339.69875  ...   \n",
              "1               2.354539               5.264910           12431.97213  ...   \n",
              "2               2.177238               4.868453           11495.82193  ...   \n",
              "3               2.177238               4.868453           11495.82193  ...   \n",
              "4               2.079246               4.649336           10978.42471  ...   \n",
              "\n",
              "   Asc Node Longitude Orbital Period  Perihelion Distance  Perihelion Arg  \\\n",
              "0          246.574315     816.359387             1.085815      115.485874   \n",
              "1          274.341995     583.865635             0.771233      127.072787   \n",
              "2          294.895562    1019.351901             0.724797      236.340269   \n",
              "3          294.895562    1019.351901             0.724797      236.340269   \n",
              "4          102.195356     255.060342             0.406293       84.686655   \n",
              "\n",
              "   Aphelion Dist  Perihelion Time  Mean Anomaly  Mean Motion  Equinox  \\\n",
              "0       2.333076      2458071.714    328.595687     0.440982    J2000   \n",
              "1       1.963026      2454441.626     18.419869     0.616580    J2000   \n",
              "2       3.239631      2458062.001    338.280000     0.353166    J2000   \n",
              "3       3.239631      2458062.001    338.280000     0.353166    J2000   \n",
              "4       1.167906      2457885.155    162.801143     1.411431    J2000   \n",
              "\n",
              "   Hazardous  \n",
              "0      False  \n",
              "1      False  \n",
              "2       True  \n",
              "3       True  \n",
              "4      False  \n",
              "\n",
              "[5 rows x 40 columns]"
            ],
            "text/html": [
              "\n",
              "  <div id=\"df-6eed33e8-f960-4a0e-87b9-966f5d9e1057\">\n",
              "    <div class=\"colab-df-container\">\n",
              "      <div>\n",
              "<style scoped>\n",
              "    .dataframe tbody tr th:only-of-type {\n",
              "        vertical-align: middle;\n",
              "    }\n",
              "\n",
              "    .dataframe tbody tr th {\n",
              "        vertical-align: top;\n",
              "    }\n",
              "\n",
              "    .dataframe thead th {\n",
              "        text-align: right;\n",
              "    }\n",
              "</style>\n",
              "<table border=\"1\" class=\"dataframe\">\n",
              "  <thead>\n",
              "    <tr style=\"text-align: right;\">\n",
              "      <th></th>\n",
              "      <th>Neo Reference ID</th>\n",
              "      <th>Name</th>\n",
              "      <th>Absolute Magnitude</th>\n",
              "      <th>Est Dia in KM(min)</th>\n",
              "      <th>Est Dia in KM(max)</th>\n",
              "      <th>Est Dia in M(min)</th>\n",
              "      <th>Est Dia in M(max)</th>\n",
              "      <th>Est Dia in Miles(min)</th>\n",
              "      <th>Est Dia in Miles(max)</th>\n",
              "      <th>Est Dia in Feet(min)</th>\n",
              "      <th>...</th>\n",
              "      <th>Asc Node Longitude</th>\n",
              "      <th>Orbital Period</th>\n",
              "      <th>Perihelion Distance</th>\n",
              "      <th>Perihelion Arg</th>\n",
              "      <th>Aphelion Dist</th>\n",
              "      <th>Perihelion Time</th>\n",
              "      <th>Mean Anomaly</th>\n",
              "      <th>Mean Motion</th>\n",
              "      <th>Equinox</th>\n",
              "      <th>Hazardous</th>\n",
              "    </tr>\n",
              "  </thead>\n",
              "  <tbody>\n",
              "    <tr>\n",
              "      <th>0</th>\n",
              "      <td>2001980</td>\n",
              "      <td>2001980</td>\n",
              "      <td>13.92</td>\n",
              "      <td>4.370740</td>\n",
              "      <td>9.773272</td>\n",
              "      <td>4370.740040</td>\n",
              "      <td>9773.271842</td>\n",
              "      <td>2.715851</td>\n",
              "      <td>6.072828</td>\n",
              "      <td>14339.69875</td>\n",
              "      <td>...</td>\n",
              "      <td>246.574315</td>\n",
              "      <td>816.359387</td>\n",
              "      <td>1.085815</td>\n",
              "      <td>115.485874</td>\n",
              "      <td>2.333076</td>\n",
              "      <td>2458071.714</td>\n",
              "      <td>328.595687</td>\n",
              "      <td>0.440982</td>\n",
              "      <td>J2000</td>\n",
              "      <td>False</td>\n",
              "    </tr>\n",
              "    <tr>\n",
              "      <th>1</th>\n",
              "      <td>2001685</td>\n",
              "      <td>2001685</td>\n",
              "      <td>14.23</td>\n",
              "      <td>3.789265</td>\n",
              "      <td>8.473054</td>\n",
              "      <td>3789.264984</td>\n",
              "      <td>8473.054089</td>\n",
              "      <td>2.354539</td>\n",
              "      <td>5.264910</td>\n",
              "      <td>12431.97213</td>\n",
              "      <td>...</td>\n",
              "      <td>274.341995</td>\n",
              "      <td>583.865635</td>\n",
              "      <td>0.771233</td>\n",
              "      <td>127.072787</td>\n",
              "      <td>1.963026</td>\n",
              "      <td>2454441.626</td>\n",
              "      <td>18.419869</td>\n",
              "      <td>0.616580</td>\n",
              "      <td>J2000</td>\n",
              "      <td>False</td>\n",
              "    </tr>\n",
              "    <tr>\n",
              "      <th>2</th>\n",
              "      <td>2004183</td>\n",
              "      <td>2004183</td>\n",
              "      <td>14.40</td>\n",
              "      <td>3.503926</td>\n",
              "      <td>7.835018</td>\n",
              "      <td>3503.926411</td>\n",
              "      <td>7835.017643</td>\n",
              "      <td>2.177238</td>\n",
              "      <td>4.868453</td>\n",
              "      <td>11495.82193</td>\n",
              "      <td>...</td>\n",
              "      <td>294.895562</td>\n",
              "      <td>1019.351901</td>\n",
              "      <td>0.724797</td>\n",
              "      <td>236.340269</td>\n",
              "      <td>3.239631</td>\n",
              "      <td>2458062.001</td>\n",
              "      <td>338.280000</td>\n",
              "      <td>0.353166</td>\n",
              "      <td>J2000</td>\n",
              "      <td>True</td>\n",
              "    </tr>\n",
              "    <tr>\n",
              "      <th>3</th>\n",
              "      <td>2004183</td>\n",
              "      <td>2004183</td>\n",
              "      <td>14.40</td>\n",
              "      <td>3.503926</td>\n",
              "      <td>7.835018</td>\n",
              "      <td>3503.926411</td>\n",
              "      <td>7835.017643</td>\n",
              "      <td>2.177238</td>\n",
              "      <td>4.868453</td>\n",
              "      <td>11495.82193</td>\n",
              "      <td>...</td>\n",
              "      <td>294.895562</td>\n",
              "      <td>1019.351901</td>\n",
              "      <td>0.724797</td>\n",
              "      <td>236.340269</td>\n",
              "      <td>3.239631</td>\n",
              "      <td>2458062.001</td>\n",
              "      <td>338.280000</td>\n",
              "      <td>0.353166</td>\n",
              "      <td>J2000</td>\n",
              "      <td>True</td>\n",
              "    </tr>\n",
              "    <tr>\n",
              "      <th>4</th>\n",
              "      <td>2066146</td>\n",
              "      <td>2066146</td>\n",
              "      <td>14.50</td>\n",
              "      <td>3.346224</td>\n",
              "      <td>7.482384</td>\n",
              "      <td>3346.223745</td>\n",
              "      <td>7482.383761</td>\n",
              "      <td>2.079246</td>\n",
              "      <td>4.649336</td>\n",
              "      <td>10978.42471</td>\n",
              "      <td>...</td>\n",
              "      <td>102.195356</td>\n",
              "      <td>255.060342</td>\n",
              "      <td>0.406293</td>\n",
              "      <td>84.686655</td>\n",
              "      <td>1.167906</td>\n",
              "      <td>2457885.155</td>\n",
              "      <td>162.801143</td>\n",
              "      <td>1.411431</td>\n",
              "      <td>J2000</td>\n",
              "      <td>False</td>\n",
              "    </tr>\n",
              "  </tbody>\n",
              "</table>\n",
              "<p>5 rows × 40 columns</p>\n",
              "</div>\n",
              "      <button class=\"colab-df-convert\" onclick=\"convertToInteractive('df-6eed33e8-f960-4a0e-87b9-966f5d9e1057')\"\n",
              "              title=\"Convert this dataframe to an interactive table.\"\n",
              "              style=\"display:none;\">\n",
              "        \n",
              "  <svg xmlns=\"http://www.w3.org/2000/svg\" height=\"24px\"viewBox=\"0 0 24 24\"\n",
              "       width=\"24px\">\n",
              "    <path d=\"M0 0h24v24H0V0z\" fill=\"none\"/>\n",
              "    <path d=\"M18.56 5.44l.94 2.06.94-2.06 2.06-.94-2.06-.94-.94-2.06-.94 2.06-2.06.94zm-11 1L8.5 8.5l.94-2.06 2.06-.94-2.06-.94L8.5 2.5l-.94 2.06-2.06.94zm10 10l.94 2.06.94-2.06 2.06-.94-2.06-.94-.94-2.06-.94 2.06-2.06.94z\"/><path d=\"M17.41 7.96l-1.37-1.37c-.4-.4-.92-.59-1.43-.59-.52 0-1.04.2-1.43.59L10.3 9.45l-7.72 7.72c-.78.78-.78 2.05 0 2.83L4 21.41c.39.39.9.59 1.41.59.51 0 1.02-.2 1.41-.59l7.78-7.78 2.81-2.81c.8-.78.8-2.07 0-2.86zM5.41 20L4 18.59l7.72-7.72 1.47 1.35L5.41 20z\"/>\n",
              "  </svg>\n",
              "      </button>\n",
              "      \n",
              "  <style>\n",
              "    .colab-df-container {\n",
              "      display:flex;\n",
              "      flex-wrap:wrap;\n",
              "      gap: 12px;\n",
              "    }\n",
              "\n",
              "    .colab-df-convert {\n",
              "      background-color: #E8F0FE;\n",
              "      border: none;\n",
              "      border-radius: 50%;\n",
              "      cursor: pointer;\n",
              "      display: none;\n",
              "      fill: #1967D2;\n",
              "      height: 32px;\n",
              "      padding: 0 0 0 0;\n",
              "      width: 32px;\n",
              "    }\n",
              "\n",
              "    .colab-df-convert:hover {\n",
              "      background-color: #E2EBFA;\n",
              "      box-shadow: 0px 1px 2px rgba(60, 64, 67, 0.3), 0px 1px 3px 1px rgba(60, 64, 67, 0.15);\n",
              "      fill: #174EA6;\n",
              "    }\n",
              "\n",
              "    [theme=dark] .colab-df-convert {\n",
              "      background-color: #3B4455;\n",
              "      fill: #D2E3FC;\n",
              "    }\n",
              "\n",
              "    [theme=dark] .colab-df-convert:hover {\n",
              "      background-color: #434B5C;\n",
              "      box-shadow: 0px 1px 3px 1px rgba(0, 0, 0, 0.15);\n",
              "      filter: drop-shadow(0px 1px 2px rgba(0, 0, 0, 0.3));\n",
              "      fill: #FFFFFF;\n",
              "    }\n",
              "  </style>\n",
              "\n",
              "      <script>\n",
              "        const buttonEl =\n",
              "          document.querySelector('#df-6eed33e8-f960-4a0e-87b9-966f5d9e1057 button.colab-df-convert');\n",
              "        buttonEl.style.display =\n",
              "          google.colab.kernel.accessAllowed ? 'block' : 'none';\n",
              "\n",
              "        async function convertToInteractive(key) {\n",
              "          const element = document.querySelector('#df-6eed33e8-f960-4a0e-87b9-966f5d9e1057');\n",
              "          const dataTable =\n",
              "            await google.colab.kernel.invokeFunction('convertToInteractive',\n",
              "                                                     [key], {});\n",
              "          if (!dataTable) return;\n",
              "\n",
              "          const docLinkHtml = 'Like what you see? Visit the ' +\n",
              "            '<a target=\"_blank\" href=https://colab.research.google.com/notebooks/data_table.ipynb>data table notebook</a>'\n",
              "            + ' to learn more about interactive tables.';\n",
              "          element.innerHTML = '';\n",
              "          dataTable['output_type'] = 'display_data';\n",
              "          await google.colab.output.renderOutput(dataTable, element);\n",
              "          const docLink = document.createElement('div');\n",
              "          docLink.innerHTML = docLinkHtml;\n",
              "          element.appendChild(docLink);\n",
              "        }\n",
              "      </script>\n",
              "    </div>\n",
              "  </div>\n",
              "  "
            ]
          },
          "metadata": {},
          "execution_count": 3
        }
      ]
    },
    {
      "cell_type": "code",
      "execution_count": null,
      "metadata": {
        "id": "cEqP2aGLxcSX"
      },
      "outputs": [],
      "source": [
        "feature=[]\n",
        "with open(dp) as csv_file:\n",
        "  csv_reader = csv.reader(csv_file, delimiter=',')\n",
        "  line_count = 0\n",
        "  for row in csv_reader:\n",
        "    if line_count == 0:\n",
        "      line_count += 1\n",
        "    else:\n",
        "      feature.append([float(row[0]), float(row[5]), float(row[13])])\n",
        "      line_count += 1\n",
        "\n",
        "Energy = []\n",
        "\n",
        "for i in feature:\n",
        "  Energy.append(0.5*(3400*(4/3)*math.pi*(((i[1]/2))**3))*(((i[2])*1000)**2))\n",
        "#print(Energy)\n",
        "\n",
        "EnergyMT = []\n",
        "\n",
        "for x in Energy:\n",
        "  EnergyMT.append(x*(2.3900573613767E-16))\n",
        "\n",
        "#print(EnergyMT)\n",
        "\n",
        "BurstAltkm=[]\n",
        "count = 0\n",
        "for x in EnergyMT:\n",
        "  BurstAltkm.append(25.7-(7.83*math.log(x,10))-(0.31*(math.log(x,10)**2)))\n",
        "  count+=1\n",
        "#print(BurstAltkm)"
      ]
    },
    {
      "cell_type": "code",
      "source": [
        "plt.scatter(df['Est Dia in KM(min)'], BurstAltkm)\n",
        "plt.xlabel('Est Dia in KM(min)')\n",
        "plt.ylabel('BurstAltkm')"
      ],
      "metadata": {
        "colab": {
          "base_uri": "https://localhost:8080/",
          "height": 296
        },
        "id": "v_tok0iM067_",
        "outputId": "092f5742-6544-450d-9d1e-71f47df423b0"
      },
      "execution_count": null,
      "outputs": [
        {
          "output_type": "execute_result",
          "data": {
            "text/plain": [
              "Text(0, 0.5, 'BurstAltkm')"
            ]
          },
          "metadata": {},
          "execution_count": 6
        },
        {
          "output_type": "display_data",
          "data": {
            "text/plain": [
              "<Figure size 432x288 with 1 Axes>"
            ],
            "image/png": "[encoded data removed]"
          },
          "metadata": {
            "needs_background": "light"
          }
        }
      ]
    },
    {
      "cell_type": "code",
      "source": [
        "km = KMeans(n_clusters=3)\n",
        "y_predicted = km.fit_predict(df[['Est Dia in KM(min)']], BurstAltkm)\n",
        "y_predicted\n",
        "len(BurstAltkm)\n",
        "len(df['Est Dia in KM(min)'])"
      ],
      "metadata": {
        "colab": {
          "base_uri": "https://localhost:8080/"
        },
        "id": "2cmV_K5PKmj0",
        "outputId": "d108da6e-e453-44ea-ed63-5a43c883996e"
      },
      "execution_count": null,
      "outputs": [
        {
          "output_type": "execute_result",
          "data": {
            "text/plain": [
              "4686"
            ]
          },
          "metadata": {},
          "execution_count": 82
        }
      ]
    },
    {
      "cell_type": "code",
      "source": [
        "df['BurstAltkm']=BurstAltkm\n",
        "df.head()\n",
        "\n",
        "df['cluster']=y_predicted\n",
        "df.head()"
      ],
      "metadata": {
        "colab": {
          "base_uri": "https://localhost:8080/",
          "height": 334
        },
        "id": "y4Djf92fKrJk",
        "outputId": "45fa595d-7bd8-4d2e-b155-91e87fa73fef"
      },
      "execution_count": null,
      "outputs": [
        {
          "output_type": "execute_result",
          "data": {
            "text/plain": [
              "   Neo Reference ID     Name  Absolute Magnitude  Est Dia in KM(min)  \\\n",
              "0           2001980  2001980               13.92            4.370740   \n",
              "1           2001685  2001685               14.23            3.789265   \n",
              "2           2004183  2004183               14.40            3.503926   \n",
              "3           2004183  2004183               14.40            3.503926   \n",
              "4           2066146  2066146               14.50            3.346224   \n",
              "\n",
              "   Est Dia in KM(max)  Est Dia in M(min)  Est Dia in M(max)  \\\n",
              "0            9.773272        4370.740040        9773.271842   \n",
              "1            8.473054        3789.264984        8473.054089   \n",
              "2            7.835018        3503.926411        7835.017643   \n",
              "3            7.835018        3503.926411        7835.017643   \n",
              "4            7.482384        3346.223745        7482.383761   \n",
              "\n",
              "   Est Dia in Miles(min)  Est Dia in Miles(max)  Est Dia in Feet(min)  ...  \\\n",
              "0               2.715851               6.072828           14339.69875  ...   \n",
              "1               2.354539               5.264910           12431.97213  ...   \n",
              "2               2.177238               4.868453           11495.82193  ...   \n",
              "3               2.177238               4.868453           11495.82193  ...   \n",
              "4               2.079246               4.649336           10978.42471  ...   \n",
              "\n",
              "   Perihelion Distance Perihelion Arg  Aphelion Dist  Perihelion Time  \\\n",
              "0             1.085815     115.485874       2.333076      2458071.714   \n",
              "1             0.771233     127.072787       1.963026      2454441.626   \n",
              "2             0.724797     236.340269       3.239631      2458062.001   \n",
              "3             0.724797     236.340269       3.239631      2458062.001   \n",
              "4             0.406293      84.686655       1.167906      2457885.155   \n",
              "\n",
              "   Mean Anomaly  Mean Motion  Equinox  Hazardous  BurstAltkm  cluster  \n",
              "0    328.595687     0.440982    J2000      False  -37.900531        2  \n",
              "1     18.419869     0.616580    J2000      False  -38.515275        2  \n",
              "2    338.280000     0.353166    J2000       True  -39.650153        2  \n",
              "3    338.280000     0.353166    J2000       True  -43.176814        2  \n",
              "4    162.801143     1.411431    J2000      False  -32.764011        2  \n",
              "\n",
              "[5 rows x 42 columns]"
            ],
            "text/html": [
              "\n",
              "  <div id=\"df-deae52bb-1192-4a85-9c02-1aeea9c28e17\">\n",
              "    <div class=\"colab-df-container\">\n",
              "      <div>\n",
              "<style scoped>\n",
              "    .dataframe tbody tr th:only-of-type {\n",
              "        vertical-align: middle;\n",
              "    }\n",
              "\n",
              "    .dataframe tbody tr th {\n",
              "        vertical-align: top;\n",
              "    }\n",
              "\n",
              "    .dataframe thead th {\n",
              "        text-align: right;\n",
              "    }\n",
              "</style>\n",
              "<table border=\"1\" class=\"dataframe\">\n",
              "  <thead>\n",
              "    <tr style=\"text-align: right;\">\n",
              "      <th></th>\n",
              "      <th>Neo Reference ID</th>\n",
              "      <th>Name</th>\n",
              "      <th>Absolute Magnitude</th>\n",
              "      <th>Est Dia in KM(min)</th>\n",
              "      <th>Est Dia in KM(max)</th>\n",
              "      <th>Est Dia in M(min)</th>\n",
              "      <th>Est Dia in M(max)</th>\n",
              "      <th>Est Dia in Miles(min)</th>\n",
              "      <th>Est Dia in Miles(max)</th>\n",
              "      <th>Est Dia in Feet(min)</th>\n",
              "      <th>...</th>\n",
              "      <th>Perihelion Distance</th>\n",
              "      <th>Perihelion Arg</th>\n",
              "      <th>Aphelion Dist</th>\n",
              "      <th>Perihelion Time</th>\n",
              "      <th>Mean Anomaly</th>\n",
              "      <th>Mean Motion</th>\n",
              "      <th>Equinox</th>\n",
              "      <th>Hazardous</th>\n",
              "      <th>BurstAltkm</th>\n",
              "      <th>cluster</th>\n",
              "    </tr>\n",
              "  </thead>\n",
              "  <tbody>\n",
              "    <tr>\n",
              "      <th>0</th>\n",
              "      <td>2001980</td>\n",
              "      <td>2001980</td>\n",
              "      <td>13.92</td>\n",
              "      <td>4.370740</td>\n",
              "      <td>9.773272</td>\n",
              "      <td>4370.740040</td>\n",
              "      <td>9773.271842</td>\n",
              "      <td>2.715851</td>\n",
              "      <td>6.072828</td>\n",
              "      <td>14339.69875</td>\n",
              "      <td>...</td>\n",
              "      <td>1.085815</td>\n",
              "      <td>115.485874</td>\n",
              "      <td>2.333076</td>\n",
              "      <td>2458071.714</td>\n",
              "      <td>328.595687</td>\n",
              "      <td>0.440982</td>\n",
              "      <td>J2000</td>\n",
              "      <td>False</td>\n",
              "      <td>-37.900531</td>\n",
              "      <td>2</td>\n",
              "    </tr>\n",
              "    <tr>\n",
              "      <th>1</th>\n",
              "      <td>2001685</td>\n",
              "      <td>2001685</td>\n",
              "      <td>14.23</td>\n",
              "      <td>3.789265</td>\n",
              "      <td>8.473054</td>\n",
              "      <td>3789.264984</td>\n",
              "      <td>8473.054089</td>\n",
              "      <td>2.354539</td>\n",
              "      <td>5.264910</td>\n",
              "      <td>12431.97213</td>\n",
              "      <td>...</td>\n",
              "      <td>0.771233</td>\n",
              "      <td>127.072787</td>\n",
              "      <td>1.963026</td>\n",
              "      <td>2454441.626</td>\n",
              "      <td>18.419869</td>\n",
              "      <td>0.616580</td>\n",
              "      <td>J2000</td>\n",
              "      <td>False</td>\n",
              "      <td>-38.515275</td>\n",
              "      <td>2</td>\n",
              "    </tr>\n",
              "    <tr>\n",
              "      <th>2</th>\n",
              "      <td>2004183</td>\n",
              "      <td>2004183</td>\n",
              "      <td>14.40</td>\n",
              "      <td>3.503926</td>\n",
              "      <td>7.835018</td>\n",
              "      <td>3503.926411</td>\n",
              "      <td>7835.017643</td>\n",
              "      <td>2.177238</td>\n",
              "      <td>4.868453</td>\n",
              "      <td>11495.82193</td>\n",
              "      <td>...</td>\n",
              "      <td>0.724797</td>\n",
              "      <td>236.340269</td>\n",
              "      <td>3.239631</td>\n",
              "      <td>2458062.001</td>\n",
              "      <td>338.280000</td>\n",
              "      <td>0.353166</td>\n",
              "      <td>J2000</td>\n",
              "      <td>True</td>\n",
              "      <td>-39.650153</td>\n",
              "      <td>2</td>\n",
              "    </tr>\n",
              "    <tr>\n",
              "      <th>3</th>\n",
              "      <td>2004183</td>\n",
              "      <td>2004183</td>\n",
              "      <td>14.40</td>\n",
              "      <td>3.503926</td>\n",
              "      <td>7.835018</td>\n",
              "      <td>3503.926411</td>\n",
              "      <td>7835.017643</td>\n",
              "      <td>2.177238</td>\n",
              "      <td>4.868453</td>\n",
              "      <td>11495.82193</td>\n",
              "      <td>...</td>\n",
              "      <td>0.724797</td>\n",
              "      <td>236.340269</td>\n",
              "      <td>3.239631</td>\n",
              "      <td>2458062.001</td>\n",
              "      <td>338.280000</td>\n",
              "      <td>0.353166</td>\n",
              "      <td>J2000</td>\n",
              "      <td>True</td>\n",
              "      <td>-43.176814</td>\n",
              "      <td>2</td>\n",
              "    </tr>\n",
              "    <tr>\n",
              "      <th>4</th>\n",
              "      <td>2066146</td>\n",
              "      <td>2066146</td>\n",
              "      <td>14.50</td>\n",
              "      <td>3.346224</td>\n",
              "      <td>7.482384</td>\n",
              "      <td>3346.223745</td>\n",
              "      <td>7482.383761</td>\n",
              "      <td>2.079246</td>\n",
              "      <td>4.649336</td>\n",
              "      <td>10978.42471</td>\n",
              "      <td>...</td>\n",
              "      <td>0.406293</td>\n",
              "      <td>84.686655</td>\n",
              "      <td>1.167906</td>\n",
              "      <td>2457885.155</td>\n",
              "      <td>162.801143</td>\n",
              "      <td>1.411431</td>\n",
              "      <td>J2000</td>\n",
              "      <td>False</td>\n",
              "      <td>-32.764011</td>\n",
              "      <td>2</td>\n",
              "    </tr>\n",
              "  </tbody>\n",
              "</table>\n",
              "<p>5 rows × 42 columns</p>\n",
              "</div>\n",
              "      <button class=\"colab-df-convert\" onclick=\"convertToInteractive('df-deae52bb-1192-4a85-9c02-1aeea9c28e17')\"\n",
              "              title=\"Convert this dataframe to an interactive table.\"\n",
              "              style=\"display:none;\">\n",
              "        \n",
              "  <svg xmlns=\"http://www.w3.org/2000/svg\" height=\"24px\"viewBox=\"0 0 24 24\"\n",
              "       width=\"24px\">\n",
              "    <path d=\"M0 0h24v24H0V0z\" fill=\"none\"/>\n",
              "    <path d=\"M18.56 5.44l.94 2.06.94-2.06 2.06-.94-2.06-.94-.94-2.06-.94 2.06-2.06.94zm-11 1L8.5 8.5l.94-2.06 2.06-.94-2.06-.94L8.5 2.5l-.94 2.06-2.06.94zm10 10l.94 2.06.94-2.06 2.06-.94-2.06-.94-.94-2.06-.94 2.06-2.06.94z\"/><path d=\"M17.41 7.96l-1.37-1.37c-.4-.4-.92-.59-1.43-.59-.52 0-1.04.2-1.43.59L10.3 9.45l-7.72 7.72c-.78.78-.78 2.05 0 2.83L4 21.41c.39.39.9.59 1.41.59.51 0 1.02-.2 1.41-.59l7.78-7.78 2.81-2.81c.8-.78.8-2.07 0-2.86zM5.41 20L4 18.59l7.72-7.72 1.47 1.35L5.41 20z\"/>\n",
              "  </svg>\n",
              "      </button>\n",
              "      \n",
              "  <style>\n",
              "    .colab-df-container {\n",
              "      display:flex;\n",
              "      flex-wrap:wrap;\n",
              "      gap: 12px;\n",
              "    }\n",
              "\n",
              "    .colab-df-convert {\n",
              "      background-color: #E8F0FE;\n",
              "      border: none;\n",
              "      border-radius: 50%;\n",
              "      cursor: pointer;\n",
              "      display: none;\n",
              "      fill: #1967D2;\n",
              "      height: 32px;\n",
              "      padding: 0 0 0 0;\n",
              "      width: 32px;\n",
              "    }\n",
              "\n",
              "    .colab-df-convert:hover {\n",
              "      background-color: #E2EBFA;\n",
              "      box-shadow: 0px 1px 2px rgba(60, 64, 67, 0.3), 0px 1px 3px 1px rgba(60, 64, 67, 0.15);\n",
              "      fill: #174EA6;\n",
              "    }\n",
              "\n",
              "    [theme=dark] .colab-df-convert {\n",
              "      background-color: #3B4455;\n",
              "      fill: #D2E3FC;\n",
              "    }\n",
              "\n",
              "    [theme=dark] .colab-df-convert:hover {\n",
              "      background-color: #434B5C;\n",
              "      box-shadow: 0px 1px 3px 1px rgba(0, 0, 0, 0.15);\n",
              "      filter: drop-shadow(0px 1px 2px rgba(0, 0, 0, 0.3));\n",
              "      fill: #FFFFFF;\n",
              "    }\n",
              "  </style>\n",
              "\n",
              "      <script>\n",
              "        const buttonEl =\n",
              "          document.querySelector('#df-deae52bb-1192-4a85-9c02-1aeea9c28e17 button.colab-df-convert');\n",
              "        buttonEl.style.display =\n",
              "          google.colab.kernel.accessAllowed ? 'block' : 'none';\n",
              "\n",
              "        async function convertToInteractive(key) {\n",
              "          const element = document.querySelector('#df-deae52bb-1192-4a85-9c02-1aeea9c28e17');\n",
              "          const dataTable =\n",
              "            await google.colab.kernel.invokeFunction('convertToInteractive',\n",
              "                                                     [key], {});\n",
              "          if (!dataTable) return;\n",
              "\n",
              "          const docLinkHtml = 'Like what you see? Visit the ' +\n",
              "            '<a target=\"_blank\" href=https://colab.research.google.com/notebooks/data_table.ipynb>data table notebook</a>'\n",
              "            + ' to learn more about interactive tables.';\n",
              "          element.innerHTML = '';\n",
              "          dataTable['output_type'] = 'display_data';\n",
              "          await google.colab.output.renderOutput(dataTable, element);\n",
              "          const docLink = document.createElement('div');\n",
              "          docLink.innerHTML = docLinkHtml;\n",
              "          element.appendChild(docLink);\n",
              "        }\n",
              "      </script>\n",
              "    </div>\n",
              "  </div>\n",
              "  "
            ]
          },
          "metadata": {},
          "execution_count": 83
        }
      ]
    },
    {
      "cell_type": "code",
      "source": [
        "\n",
        "\n",
        "df1 = df[df.cluster==0]\n",
        "df2 = df[df.cluster==1]\n",
        "df3 = df[df.cluster==2]\n",
        "\n",
        "plt.scatter(df1[['Est Dia in KM(min)']],df1[['Relative Velocity km per sec']],color='green')\n",
        "plt.scatter(df2[['Est Dia in KM(min)']],df2[['Relative Velocity km per sec']],color='red')\n",
        "plt.scatter(df3[['Est Dia in KM(min)']],df3[['Relative Velocity km per sec']],color='black')\n",
        "\n",
        "#plt.scatter(km.cluster_centers_[:,0],km.cluster_centers_[:,1],color='purple',marker='*',label='centroid')\n",
        "plt.xlabel('Est Dia in KM(min)')\n",
        "plt.ylabel('Relative Velocity km per sec')\n",
        "plt.legend()"
      ],
      "metadata": {
        "colab": {
          "base_uri": "https://localhost:8080/",
          "height": 314
        },
        "id": "9JJNqQkFMEA5",
        "outputId": "2aab6285-a68d-4a12-fa05-75d7347a5a54"
      },
      "execution_count": null,
      "outputs": [
        {
          "output_type": "stream",
          "name": "stderr",
          "text": [
            "WARNING:matplotlib.legend:No handles with labels found to put in legend.\n"
          ]
        },
        {
          "output_type": "execute_result",
          "data": {
            "text/plain": [
              "<matplotlib.legend.Legend at 0x7f5471d466d0>"
            ]
          },
          "metadata": {},
          "execution_count": 84
        },
        {
          "output_type": "display_data",
          "data": {
            "text/plain": [
              "<Figure size 432x288 with 1 Axes>"
            ],
            "image/png": "[encoded data removed]"
          },
          "metadata": {
            "needs_background": "light"
          }
        }
      ]
    },
    {
      "cell_type": "code",
      "source": [
        "sse = []\n",
        "k_rng = range(1,20)\n",
        "for k in k_rng:\n",
        "    km = KMeans(n_clusters=k)\n",
        "    km.fit(df[['Est Dia in KM(min)','BurstAltkm']])\n",
        "    sse.append(km.inertia_)"
      ],
      "metadata": {
        "id": "cj-04V7ZN_fu"
      },
      "execution_count": null,
      "outputs": []
    },
    {
      "cell_type": "code",
      "source": [
        "plt.xlabel('K')\n",
        "plt.ylabel('Sum of squared error')\n",
        "plt.plot(k_rng,sse)"
      ],
      "metadata": {
        "colab": {
          "base_uri": "https://localhost:8080/",
          "height": 307
        },
        "id": "NYPyDHobOXWf",
        "outputId": "5d0ddba3-07a5-41d8-ca19-52807e6b4577"
      },
      "execution_count": null,
      "outputs": [
        {
          "output_type": "execute_result",
          "data": {
            "text/plain": [
              "[<matplotlib.lines.Line2D at 0x7f5471e67710>]"
            ]
          },
          "metadata": {},
          "execution_count": 86
        },
        {
          "output_type": "display_data",
          "data": {
            "text/plain": [
              "<Figure size 432x288 with 1 Axes>"
            ],
            "image/png": "[encoded data removed]"
          },
          "metadata": {
            "needs_background": "light"
          }
        }
      ]
    },
    {
      "cell_type": "code",
      "source": [
        "X = np.array(df[['Est Dia in KM(min)', 'BurstAltkm', 'Relative Velocity km per sec']])"
      ],
      "metadata": {
        "id": "c4KJIBKAQTgL"
      },
      "execution_count": null,
      "outputs": []
    },
    {
      "cell_type": "code",
      "source": [
        "gvf = 0.0\n",
        "results = {}\n",
        "ncluster = 2\n",
        "while gvf < .98:\n",
        "\n",
        "    km = KMeans(n_clusters=ncluster, random_state=0)\n",
        "    km.fit(X)\n",
        "    centers = km.cluster_centers_\n",
        "    km_labels = km.predict(X)\n",
        "    #display(centers)\n",
        "    #display(km_labels)\n",
        "\n",
        "    mean = np.mean(X,axis=0)\n",
        "    sdam_array = np.sum((X-mean)**2,axis=0)\n",
        "    sdam = np.sum(sdam_array) # Obtain SDAM\n",
        "\n",
        "    sdcm = 0\n",
        "    for n in range(0, ncluster):\n",
        "        class_mean = centers[n,:]\n",
        "\n",
        "        for i in range(0, X.shape[0]):\n",
        "            if km_labels[i] == n:\n",
        "                sdcm = sdcm + np.sum((X[i,]-class_mean)**2)\n",
        "\n",
        "    gvf = 1 - sdcm/sdam\n",
        "    #display([sdam, sdcm, gvf])\n",
        "    results[ncluster] = [gvf]\n",
        "    ncluster = ncluster+1"
      ],
      "metadata": {
        "id": "mWdZz5saRHmd"
      },
      "execution_count": null,
      "outputs": []
    },
    {
      "cell_type": "code",
      "source": [
        "result5={}\n",
        "for i in range(2, 15):\n",
        "  result5[i] = results[i]\n",
        "\n",
        "\n",
        "df_jnb = pd.DataFrame.from_dict(result5)\n",
        "\n",
        "sns.set_style(style='white')\n",
        "ax = sns.lineplot(data=df_jnb.T)\n",
        "ax.legend_.remove()\n",
        "plt.xticks(range(2, 5))\n",
        "plt.ylim((0.7, 1.0))\n",
        "plt.xlabel('k')\n",
        "plt.ylabel('GVF')\n",
        "plt.tight_layout()"
      ],
      "metadata": {
        "colab": {
          "base_uri": "https://localhost:8080/",
          "height": 297
        },
        "id": "lPF7O-xFRbmq",
        "outputId": "907b3058-666b-4231-82a0-a0cee6b82b58"
      },
      "execution_count": null,
      "outputs": [
        {
          "output_type": "display_data",
          "data": {
            "text/plain": [
              "<Figure size 432x288 with 1 Axes>"
            ],
            "image/png": "[encoded data removed]"
          },
          "metadata": {}
        }
      ]
    },
    {
      "cell_type": "code",
      "source": [
        "ncluster = 3\n",
        "km = KMeans(n_clusters=ncluster, random_state=0)\n",
        "km.fit(X)\n",
        "centers = km.cluster_centers_\n",
        "km_labels = km.predict(X)\n",
        "#display(centers)\n",
        "display(km_labels)"
      ],
      "metadata": {
        "colab": {
          "base_uri": "https://localhost:8080/",
          "height": 34
        },
        "id": "zoYqrJetCK5l",
        "outputId": "d7dcdab0-0523-4aea-f69b-3ff0ad39f84b"
      },
      "execution_count": null,
      "outputs": [
        {
          "output_type": "display_data",
          "data": {
            "text/plain": [
              "array([2, 2, 2, ..., 1, 1, 1], dtype=int32)"
            ]
          },
          "metadata": {}
        }
      ]
    },
    {
      "cell_type": "code",
      "source": [
        "\n",
        "fig = plt.figure()\n",
        "sns.set_style(style='white')\n",
        "ax = p3.Axes3D(fig)\n",
        "#ax = fig.add_axes(Axes3D(ax, 'l'))\n",
        "ax.set_proj_type('ortho')\n",
        "\n",
        "ax.set_xlabel(\"Diameter(KM)\", fontsize=16, labelpad=6)\n",
        "ax.set_ylabel(\"Burst Altitude(km)\", fontsize=16, labelpad=6)\n",
        "ax.set_zlabel(\"Rlative Velocity(km/s)\", fontsize=16, labelpad=6)\n",
        "ax.tick_params(axis='both', which='major', labelsize=10)\n",
        "ax.view_init(elev=20., azim=210)\n",
        "ct=0.0\n",
        "ctotal=0.0\n",
        "for i in range(0, X.shape[0]):\n",
        "    label = km_labels[i]\n",
        "    ctotal+=1\n",
        "    if label == 0:\n",
        "        ax.scatter(X[i, 0], X[i, 1], X[i, 2], c='b', marker='o', s=15)\n",
        "        ct += 1\n",
        "    elif label == 1:\n",
        "        ax.scatter(X[i, 0], X[i, 1], X[i, 2], c='k', marker='o', s=15)\n",
        "    elif label == 2:\n",
        "        ax.scatter(X[i, 0], X[i, 1], X[i, 2], c='g', marker='o', s=15)\n",
        "    else:\n",
        "        ax.scatter(X[i, 0], X[i, 1], X[i, 2], c='y', marker='o', s=15)\n",
        "\n",
        "ax.scatter(centers[0, 0], centers[0, 1], centers[0, 2], c='r', marker='*', s=280)\n",
        "ax.scatter(centers[1, 0], centers[1, 1], centers[1, 2], c='r', marker='*', s=280)\n",
        "ax.scatter(centers[2, 0], centers[2, 1], centers[2, 2], c='r', marker='*', s=280)\n",
        "\n"
      ],
      "metadata": {
        "colab": {
          "base_uri": "https://localhost:8080/",
          "height": 336
        },
        "id": "5LpOtXxKSPFL",
        "outputId": "64c282b5-27c5-470c-bd1f-2186b393b21d"
      },
      "execution_count": null,
      "outputs": [
        {
          "output_type": "execute_result",
          "data": {
            "text/plain": [
              "<mpl_toolkits.mplot3d.art3d.Path3DCollection at 0x7f546d66dd50>"
            ]
          },
          "metadata": {},
          "execution_count": 91
        },
        {
          "output_type": "display_data",
          "data": {
            "text/plain": [
              "<Figure size 432x288 with 1 Axes>"
            ],
            "image/png": "[encoded data removed]"
          },
          "metadata": {}
        }
      ]
    },
    {
      "cell_type": "code",
      "source": [
        "ct/ctotal"
      ],
      "metadata": {
        "colab": {
          "base_uri": "https://localhost:8080/"
        },
        "id": "C7dTE8OshU-6",
        "outputId": "2058bdb4-380f-47fa-81a0-49746b96d720"
      },
      "execution_count": null,
      "outputs": [
        {
          "output_type": "execute_result",
          "data": {
            "text/plain": [
              "0.3862569355527102"
            ]
          },
          "metadata": {},
          "execution_count": 92
        }
      ]
    }
  ],
  "metadata": {
    "colab": {
      "provenance": []
    },
    "kernelspec": {
      "display_name": "Python 3",
      "name": "python3"
    },
    "language_info": {
      "name": "python"
    }
  },
  "nbformat": 4,
  "nbformat_minor": 0
}